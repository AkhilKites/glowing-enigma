{
  "nbformat": 4,
  "nbformat_minor": 0,
  "metadata": {
    "colab": {
      "provenance": [],
      "authorship_tag": "ABX9TyP6GddUeg/qMu2vO7X8DVMs",
      "include_colab_link": true
    },
    "kernelspec": {
      "name": "python3",
      "display_name": "Python 3"
    },
    "language_info": {
      "name": "python"
    }
  },
  "cells": [
    {
      "cell_type": "markdown",
      "metadata": {
        "id": "view-in-github",
        "colab_type": "text"
      },
      "source": [
        "<a href=\"https://colab.research.google.com/github/AkhilKites/glowing-enigma/blob/main/Driver_Data_Analysis_Hive.ipynb\" target=\"_parent\"><img src=\"https://colab.research.google.com/assets/colab-badge.svg\" alt=\"Open In Colab\"/></a>"
      ]
    },
    {
      "cell_type": "markdown",
      "source": [
        "Driver Table Creation and Data Load from hdfs"
      ],
      "metadata": {
        "id": "XhTe-RZ1mHaL"
      }
    },
    {
      "cell_type": "code",
      "execution_count": null,
      "metadata": {
        "id": "b2PyZ_dPlezt"
      },
      "outputs": [],
      "source": [
        "create database avulaar;\n",
        "use avulaar;"
      ]
    },
    {
      "cell_type": "code",
      "source": [
        "CREATE EXTERNAL TABLE driver_info1 (\n",
        "    driverId INT,\n",
        "    name STRING,\n",
        "    ssn STRING,\n",
        "    location STRING,\n",
        "    certified BOOLEAN,\n",
        "    wage_plan STRING\n",
        ")\n",
        "ROW FORMAT DELIMITED\n",
        "FIELDS TERMINATED BY ','\n",
        "STORED AS TEXTFILE\n",
        "tblproperties(\n",
        "\"skip.header.line.count\"=\"1\"\n",
        ");"
      ],
      "metadata": {
        "id": "VM-qluSWmUeE"
      },
      "execution_count": null,
      "outputs": []
    },
    {
      "cell_type": "code",
      "source": [
        "LOAD DATA local INPATH 'drivers.csv' OVERWRITE INTO TABLE driver_info1;"
      ],
      "metadata": {
        "id": "FOinjspFmXfC"
      },
      "execution_count": null,
      "outputs": []
    },
    {
      "cell_type": "markdown",
      "source": [
        "Timeshet table creation and data load"
      ],
      "metadata": {
        "id": "cXBmzgaCmX4D"
      }
    },
    {
      "cell_type": "code",
      "source": [
        "use avulaar;\n",
        "CREATE EXTERNAL TABLE timesheet_data1 (\n",
        "    driverId INT,\n",
        "    week INT,\n",
        "    hours_logged DOUBLE,\n",
        "    miles_logged DOUBLE\n",
        ")\n",
        "ROW FORMAT DELIMITED\n",
        "FIELDS TERMINATED BY ','\n",
        "STORED AS TEXTFILE;\n",
        "tblproperties(\n",
        "\"skip.header.line.count\"=\"1\"\n",
        ");"
      ],
      "metadata": {
        "id": "WP16EGuPmacu"
      },
      "execution_count": null,
      "outputs": []
    },
    {
      "cell_type": "code",
      "source": [
        "LOAD DATA local INPATH 'timesheet.csv' OVERWRITE INTO TABLE timesheet_data1;"
      ],
      "metadata": {
        "id": "xwy7Bj-QmiNG"
      },
      "execution_count": null,
      "outputs": []
    },
    {
      "cell_type": "markdown",
      "source": [
        "Q1.How many total hours and miles logged by each driver"
      ],
      "metadata": {
        "id": "XlQznHVMmiw6"
      }
    },
    {
      "cell_type": "code",
      "source": [
        "SELECT\n",
        "    t.driverId,\n",
        "    SUM(t.hours_logged) AS total_hours_logged,\n",
        "    SUM(t.miles_logged) AS total_miles_logged\n",
        "FROM timesheet_data1 t\n",
        "JOIN driver_info1 d ON t.driverId = d.driverId\n",
        "GROUP BY t.driverId;"
      ],
      "metadata": {
        "id": "65Ot7fObmlMS"
      },
      "execution_count": null,
      "outputs": []
    },
    {
      "cell_type": "markdown",
      "source": [
        "Q2.Print the name of the driver in the above query"
      ],
      "metadata": {
        "id": "xW-jdfL-ml1E"
      }
    },
    {
      "cell_type": "code",
      "source": [
        "SELECT\n",
        "    t.driverId,\n",
        "    d.name,\n",
        "    SUM(t.hours_logged) AS total_hours_logged,\n",
        "    SUM(t.miles_logged) AS total_miles_logged\n",
        "FROM timesheet_data1 t\n",
        "JOIN driver_info1 d ON t.driverId = d.driverId\n",
        "GROUP BY t.driverId, d.name;"
      ],
      "metadata": {
        "id": "maAYP3uamnJ-"
      },
      "execution_count": null,
      "outputs": []
    },
    {
      "cell_type": "markdown",
      "source": [
        "Q3.Write the above query output in to hdfs director"
      ],
      "metadata": {
        "id": "-ZyYF4upmpOS"
      }
    },
    {
      "cell_type": "code",
      "source": [
        "INSERT OVERWRITE DIRECTORY '/user/avulaaruser1/driverinfoquery1'\n",
        "SELECT\n",
        "    t.driverId,\n",
        "    d.name,\n",
        "    SUM(t.hours_logged) AS total_hours_logged,\n",
        "    SUM(t.miles_logged) AS total_miles_logged\n",
        "FROM timesheet_data1 t\n",
        "JOIN driver_info1 d ON t.driverId = d.driverId\n",
        "GROUP BY t.driverId, d.name;"
      ],
      "metadata": {
        "id": "-GbkI7Temwra"
      },
      "execution_count": null,
      "outputs": []
    }
  ]
}