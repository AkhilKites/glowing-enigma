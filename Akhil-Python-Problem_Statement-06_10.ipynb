{
  "nbformat": 4,
  "nbformat_minor": 0,
  "metadata": {
    "colab": {
      "provenance": [],
      "authorship_tag": "ABX9TyPc3tcQH47Vnjstj0uPFEra",
      "include_colab_link": true
    },
    "kernelspec": {
      "name": "python3",
      "display_name": "Python 3"
    },
    "language_info": {
      "name": "python"
    }
  },
  "cells": [
    {
      "cell_type": "markdown",
      "metadata": {
        "id": "view-in-github",
        "colab_type": "text"
      },
      "source": [
        "<a href=\"https://colab.research.google.com/github/AkhilKites/glowing-enigma/blob/main/Akhil-Python-Problem_Statement-06_10.ipynb\" target=\"_parent\"><img src=\"https://colab.research.google.com/assets/colab-badge.svg\" alt=\"Open In Colab\"/></a>"
      ]
    },
    {
      "cell_type": "code",
      "execution_count": 10,
      "metadata": {
        "colab": {
          "base_uri": "https://localhost:8080/"
        },
        "id": "cqAZf0xN6OtP",
        "outputId": "33610ed8-54ee-40b4-b1ba-311bff8547b4"
      },
      "outputs": [
        {
          "output_type": "stream",
          "name": "stdout",
          "text": [
            "35\n"
          ]
        }
      ],
      "source": [
        "#Challenge 1: Square Numbers and Return Their Sum\n",
        "#Akhil\n",
        "class Point1:\n",
        "\n",
        "    def __init__(self,x,y,z):\n",
        "\n",
        "        self.x = x\n",
        "\n",
        "        self.y = y\n",
        "\n",
        "        self.z = z\n",
        "\n",
        "    def sqSum(self):\n",
        "\n",
        "        return(self.x**2+self.y**2+self.z**2)\n",
        "\n",
        "obj=Point1(1,3,5)\n",
        "\n",
        "print(obj.sqSum())"
      ]
    },
    {
      "cell_type": "code",
      "source": [
        "#Challenge 2: Implement a Calculator Class\n",
        "#Akhil\n",
        "class Calculator:\n",
        "\n",
        "    def __init__(self,x,y):\n",
        "\n",
        "        self.x = x\n",
        "\n",
        "        self.y = y\n",
        "\n",
        "    def add(self):\n",
        "\n",
        "        return self.y+self.x\n",
        "\n",
        "    def subtract(self):\n",
        "\n",
        "        return self.y-self.x\n",
        "\n",
        "    def multiply(self):\n",
        "\n",
        "        return self.y*self.x\n",
        "\n",
        "    def divide(self):\n",
        "\n",
        "        return self.y/self.x\n",
        "\n",
        "obj = Calculator(10,94)\n",
        "\n",
        "print(obj.add())\n",
        "\n",
        "print(obj.subtract())\n",
        "\n",
        "print(obj.multiply())\n",
        "\n",
        "print(obj.divide())"
      ],
      "metadata": {
        "colab": {
          "base_uri": "https://localhost:8080/"
        },
        "id": "iaKg85aF7fWh",
        "outputId": "6629db5c-b126-455e-a8bf-ab83c0611161"
      },
      "execution_count": 4,
      "outputs": [
        {
          "output_type": "stream",
          "name": "stdout",
          "text": [
            "104\n",
            "84\n",
            "940\n",
            "9.4\n"
          ]
        }
      ]
    },
    {
      "cell_type": "code",
      "source": [
        "#Challenge 3: Implement the Complete Student Class\n",
        "#Akhil\n",
        "\n",
        "class Student:\n",
        "\n",
        "    def __init__(self,name=None,roll_num=None):\n",
        "\n",
        "        self.__student_name=name\n",
        "\n",
        "        self.__roll_number=roll_num\n",
        "\n",
        "    def setName(self,name):\n",
        "\n",
        "        self.__student_name=name\n",
        "\n",
        "    def getName(self):\n",
        "\n",
        "        return(self.__student_name)\n",
        "\n",
        "    def setRollNumber(self,roll_num):\n",
        "\n",
        "        self.__roll_number=roll_num\n",
        "\n",
        "    def getRollNumber(self):\n",
        "\n",
        "        return(self.__roll_number)\n",
        "\n",
        "s1=Student()\n",
        "\n",
        "print(s1.getName())\n",
        "\n",
        "s1.setName(\"Akhil\")\n",
        "\n",
        "print(s1.getName())\n",
        "\n",
        "print(s1.getRollNumber())\n",
        "\n",
        "s1.setRollNumber(2351)\n",
        "\n",
        "print(s1.getRollNumber())"
      ],
      "metadata": {
        "colab": {
          "base_uri": "https://localhost:8080/"
        },
        "id": "v7uxP05q8ZMD",
        "outputId": "7761d6c9-c04c-430b-e163-738a07809f7f"
      },
      "execution_count": 6,
      "outputs": [
        {
          "output_type": "stream",
          "name": "stdout",
          "text": [
            "None\n",
            "Akhil\n",
            "None\n",
            "2351\n"
          ]
        }
      ]
    },
    {
      "cell_type": "code",
      "source": [
        "#Challenge 4: Implement a Banking Account\n",
        "#Akhil\n",
        "class Account:\n",
        "\n",
        "    def __init__(self,title=None,Balance=0):\n",
        "\n",
        "        self.title=title\n",
        "\n",
        "        self.Balance=Balance\n",
        "\n",
        "class SavingsAccount(Account):\n",
        "\n",
        "    def __init__(self,title=None,Balance=0,interestRate=0):\n",
        "\n",
        "        super().__init__(title,Balance)\n",
        "\n",
        "        self.interestRate=interestRate\n",
        "\n",
        "obj1=Account(\"Ashish\",500)\n",
        "\n",
        "obj2=SavingsAccount(\"Ashish\",500,5)\n",
        "\n",
        "print(obj2.title)\n",
        "\n",
        "print(obj2.Balance)\n",
        "\n",
        "print(obj2.interestRate)"
      ],
      "metadata": {
        "colab": {
          "base_uri": "https://localhost:8080/"
        },
        "id": "8Ct28EYV8sGH",
        "outputId": "4691e934-eb52-4472-f92d-6e3d7345fd46"
      },
      "execution_count": 8,
      "outputs": [
        {
          "output_type": "stream",
          "name": "stdout",
          "text": [
            "Ashish\n",
            "500\n",
            "5\n"
          ]
        }
      ]
    },
    {
      "cell_type": "code",
      "source": [
        "#Challenge 5: Handling a Bank Account\n",
        "#Akhil\n",
        "class Account:\n",
        "\n",
        "    def __init__(self, title=None, balance=0):\n",
        "\n",
        "        self.title = title\n",
        "\n",
        "        self.balance = balance\n",
        "\n",
        "    def withdrawal(self, amount):\n",
        "\n",
        "        self.balance-=amount\n",
        "\n",
        "    def deposit(self, amount):\n",
        "\n",
        "        self.balance+=amount\n",
        "\n",
        "    def getBalance(self):\n",
        "\n",
        "        return self.balance\n",
        "\n",
        "class SavingsAccount(Account):\n",
        "\n",
        "    def __init__(self, title=None, balance=0, interestRate=0):\n",
        "\n",
        "            super().__init__(title, balance)\n",
        "\n",
        "            self.interestRate = interestRate\n",
        "\n",
        "    def interestAmount(self):\n",
        "\n",
        "        return(self.interestRate*self.getBalance())/100\n",
        "\n",
        "obj1 = SavingsAccount(\"Ashish\", 2000, 5)   # initializing a SavingsAccount object\n",
        "\n",
        "print(f\"Account holder Name:{obj1.title}\")\n",
        "\n",
        "print(f\"Account Balance: {obj1.getBalance()}\")\n",
        "\n",
        "obj1.deposit(500)\n",
        "\n",
        "print(f\"Account Balance after deposit: {obj1.getBalance()}\")\n",
        "\n",
        "obj1.withdrawal(100)\n",
        "\n",
        "print(f\"Account Balance after withdrawal: {obj1.getBalance()}\")\n",
        "\n",
        "print(f\"Interest for the balance amount:{obj1.interestAmount()}\")\n",
        "\n",
        "\n",
        "\n"
      ],
      "metadata": {
        "colab": {
          "base_uri": "https://localhost:8080/"
        },
        "id": "x-JQBepK81ei",
        "outputId": "f08fb522-2e36-46c1-f7ae-7a48499bf0a4"
      },
      "execution_count": 9,
      "outputs": [
        {
          "output_type": "stream",
          "name": "stdout",
          "text": [
            "Account holder Name:Ashish\n",
            "Account Balance: 2000\n",
            "Account Balance after deposit: 2500\n",
            "Account Balance after withdrawal: 2400\n",
            "Interest for the balance amount:120.0\n"
          ]
        }
      ]
    }
  ]
}