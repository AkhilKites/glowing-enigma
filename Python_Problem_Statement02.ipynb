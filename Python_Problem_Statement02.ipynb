{
  "nbformat": 4,
  "nbformat_minor": 0,
  "metadata": {
    "colab": {
      "provenance": [],
      "authorship_tag": "ABX9TyMflFLLQ/glT2WxHpxNEvFH",
      "include_colab_link": true
    },
    "kernelspec": {
      "name": "python3",
      "display_name": "Python 3"
    },
    "language_info": {
      "name": "python"
    }
  },
  "cells": [
    {
      "cell_type": "markdown",
      "metadata": {
        "id": "view-in-github",
        "colab_type": "text"
      },
      "source": [
        "<a href=\"https://colab.research.google.com/github/AkhilKites/glowing-enigma/blob/main/Python_Problem_Statement02.ipynb\" target=\"_parent\"><img src=\"https://colab.research.google.com/assets/colab-badge.svg\" alt=\"Open In Colab\"/></a>"
      ]
    },
    {
      "cell_type": "code",
      "execution_count": null,
      "metadata": {
        "colab": {
          "base_uri": "https://localhost:8080/"
        },
        "id": "XPoKiy2XcD_d",
        "outputId": "cfa6ec49-fd23-44a7-e169-58c387e43b75"
      },
      "outputs": [
        {
          "output_type": "stream",
          "name": "stdout",
          "text": [
            "Enter Number of calls:201\n",
            "Monthly Telephone Bill for 201 calls is Rs. 255.4\n"
          ]
        }
      ],
      "source": [
        "num_call=int(input(\"Enter Number of calls:\"))\n",
        "\n",
        "if num_call > 200:\n",
        "    print(\"Monthly Telephone Bill for\",num_call,\"calls is Rs.\",(200+(50*0.60)+(50*0.50)+(num_call-200)*0.40))\n",
        "elif num_call > 150:\n",
        "    print(\"Monthly Telephone Bill for\",num_call,\"calls is Rs.\",(200+(50*0.60)+(num_call-150)*0.50))\n",
        "elif num_call > 100:\n",
        "    print(\"Monthly Telephone Bill for\",num_call,\"calls is Rs.\",(200+(num_call-100)*0.60))\n",
        "else:\n",
        "    print(\"Monthly Telephone Bill for\",num_call,\"calls is Rs. 200\")"
      ]
    }
  ]
}