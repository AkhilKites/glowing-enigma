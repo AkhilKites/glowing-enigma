{
  "nbformat": 4,
  "nbformat_minor": 0,
  "metadata": {
    "colab": {
      "provenance": [],
      "authorship_tag": "ABX9TyPWKdul3bGwIzOl1XbCUswc",
      "include_colab_link": true
    },
    "kernelspec": {
      "name": "python3",
      "display_name": "Python 3"
    },
    "language_info": {
      "name": "python"
    }
  },
  "cells": [
    {
      "cell_type": "markdown",
      "metadata": {
        "id": "view-in-github",
        "colab_type": "text"
      },
      "source": [
        "<a href=\"https://colab.research.google.com/github/AkhilKites/glowing-enigma/blob/main/Python_Problem_Statement01.ipynb\" target=\"_parent\"><img src=\"https://colab.research.google.com/assets/colab-badge.svg\" alt=\"Open In Colab\"/></a>"
      ]
    },
    {
      "cell_type": "code",
      "execution_count": null,
      "metadata": {
        "colab": {
          "base_uri": "https://localhost:8080/"
        },
        "id": "RjwBWKZkSgtr",
        "outputId": "f292d4f0-1e01-4884-9c7a-7c022b48fa7b"
      },
      "outputs": [
        {
          "output_type": "stream",
          "name": "stdout",
          "text": [
            "log_message=D:100 W:200 D:400\n",
            "300\n"
          ]
        }
      ],
      "source": [
        "Total_Deposit=0\n",
        "Total_Withdraw=0\n",
        "count=0\n",
        "Temp_deposit=\"\"\n",
        "Temp_Withdraw=\"\"\n",
        "\n",
        "log_message=input(\"log_message=\")\n",
        "for i in log_message:\n",
        "    if i=='D':\n",
        "        D=log_message[count+2:]\n",
        "        for dep in D:\n",
        "            if dep!=':' and dep!=' ':\n",
        "                Temp_deposit=Temp_deposit+dep\n",
        "            else:\n",
        "                break\n",
        "        Total_Deposit=Total_Deposit+int(Temp_deposit)\n",
        "        Temp_deposit=\"\"\n",
        "    elif i=='W':\n",
        "        W=log_message[count+2:]\n",
        "        for WD in W:\n",
        "            if WD!=':' and WD!=' ':\n",
        "                Temp_Withdraw=Temp_Withdraw+WD\n",
        "            else:\n",
        "                break\n",
        "        Total_Withdraw=Total_Withdraw+int(Temp_Withdraw)\n",
        "        Temp_Withdraw=\"\"\n",
        "    count+=1\n",
        "#print(\"Total Deposit=\",Total_Deposit)\n",
        "#print(\"Total Withdraw=\",Total_Withdraw)\n",
        "#print(\"Net Amount=\",Total_Deposit-Total_Withdraw)\n",
        "print(Total_Deposit-Total_Withdraw)\n"
      ]
    },
    {
      "cell_type": "code",
      "source": [],
      "metadata": {
        "id": "ILKkP-f3Sx3P"
      },
      "execution_count": null,
      "outputs": []
    }
  ]
}