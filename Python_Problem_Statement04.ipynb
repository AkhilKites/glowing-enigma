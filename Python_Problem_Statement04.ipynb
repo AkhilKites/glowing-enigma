{
  "nbformat": 4,
  "nbformat_minor": 0,
  "metadata": {
    "colab": {
      "provenance": [],
      "authorship_tag": "ABX9TyMLABZ3gTuJeUNg0G29eh4i",
      "include_colab_link": true
    },
    "kernelspec": {
      "name": "python3",
      "display_name": "Python 3"
    },
    "language_info": {
      "name": "python"
    }
  },
  "cells": [
    {
      "cell_type": "markdown",
      "metadata": {
        "id": "view-in-github",
        "colab_type": "text"
      },
      "source": [
        "<a href=\"https://colab.research.google.com/github/AkhilKites/glowing-enigma/blob/main/Python_Problem_Statement04.ipynb\" target=\"_parent\"><img src=\"https://colab.research.google.com/assets/colab-badge.svg\" alt=\"Open In Colab\"/></a>"
      ]
    },
    {
      "cell_type": "code",
      "execution_count": null,
      "metadata": {
        "colab": {
          "base_uri": "https://localhost:8080/"
        },
        "id": "X8Lfhtdtemjr",
        "outputId": "59564767-b0f6-47b4-886f-48a98a3b9743"
      },
      "outputs": [
        {
          "output_type": "stream",
          "name": "stdout",
          "text": [
            "dcba4321\n"
          ]
        }
      ],
      "source": [
        "#String inside the function\n",
        "#Write a Python program to reverse a string.\n",
        "\n",
        "\n",
        "def rev_str(str):\n",
        "  rev_str=\"\"\n",
        "  [rev_str:=i+rev_str for i in str]\n",
        "  return rev_str\n",
        "\n",
        "\n",
        "str=\"1234abcd\"\n",
        "print(rev_str(str))\n"
      ]
    }
  ]
}