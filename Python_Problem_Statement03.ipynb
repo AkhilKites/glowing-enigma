{
  "nbformat": 4,
  "nbformat_minor": 0,
  "metadata": {
    "colab": {
      "provenance": [],
      "authorship_tag": "ABX9TyO+LC90J8fxTBfcak1nel/4",
      "include_colab_link": true
    },
    "kernelspec": {
      "name": "python3",
      "display_name": "Python 3"
    },
    "language_info": {
      "name": "python"
    }
  },
  "cells": [
    {
      "cell_type": "markdown",
      "metadata": {
        "id": "view-in-github",
        "colab_type": "text"
      },
      "source": [
        "<a href=\"https://colab.research.google.com/github/AkhilKites/glowing-enigma/blob/main/Python_Problem_Statement03.ipynb\" target=\"_parent\"><img src=\"https://colab.research.google.com/assets/colab-badge.svg\" alt=\"Open In Colab\"/></a>"
      ]
    },
    {
      "cell_type": "code",
      "execution_count": null,
      "metadata": {
        "colab": {
          "base_uri": "https://localhost:8080/"
        },
        "id": "hDvPL_LvdD5z",
        "outputId": "f6cb4283-7f96-49b0-c8b0-5da288c983b5"
      },
      "outputs": [
        {
          "output_type": "stream",
          "name": "stdout",
          "text": [
            "20\n"
          ]
        }
      ],
      "source": [
        "#GAME of \"Functions\"\n",
        "#Write a Python function to sum all the numbers in a list.\n",
        "\n",
        "def sum_lis(l):\n",
        "  sum_cnt=0\n",
        "  [sum_cnt:=sum_cnt+i for i in l]\n",
        "  return sum_cnt\n",
        "\n",
        "lis=[8, 2, 3, 0, 7]\n",
        "print(sum(lis))"
      ]
    }
  ]
}