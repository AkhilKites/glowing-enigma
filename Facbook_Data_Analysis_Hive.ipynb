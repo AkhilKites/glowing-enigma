{
  "nbformat": 4,
  "nbformat_minor": 0,
  "metadata": {
    "colab": {
      "provenance": [],
      "authorship_tag": "ABX9TyP2c0QRPGHOY6CT3kD8HPjr",
      "include_colab_link": true
    },
    "kernelspec": {
      "name": "python3",
      "display_name": "Python 3"
    },
    "language_info": {
      "name": "python"
    }
  },
  "cells": [
    {
      "cell_type": "markdown",
      "metadata": {
        "id": "view-in-github",
        "colab_type": "text"
      },
      "source": [
        "<a href=\"https://colab.research.google.com/github/AkhilKites/glowing-enigma/blob/main/Facbook_Data_Analysis_Hive.ipynb\" target=\"_parent\"><img src=\"https://colab.research.google.com/assets/colab-badge.svg\" alt=\"Open In Colab\"/></a>"
      ]
    },
    {
      "cell_type": "code",
      "source": [
        "CREATE TABLE facebook (\n",
        "    userid INT,\n",
        "    age INT,\n",
        "    dob_day INT,\n",
        "    dob_year INT,\n",
        "    dob_month INT,\n",
        "    gender STRING,\n",
        "    tenure INT,\n",
        "    friend_count INT,\n",
        "    friendships_initiated INT,\n",
        "    likes INT,\n",
        "    likes_received INT,\n",
        "    mobile_likes INT,\n",
        "    mobile_likes_received INT,\n",
        "    www_likes INT,\n",
        "    www_likes_received INT\n",
        ")\n",
        "ROW FORMAT DELIMITED\n",
        "FIELDS TERMINATED BY ','\n",
        "STORED AS TEXTFILE;"
      ],
      "metadata": {
        "id": "crCu6VqClML2"
      },
      "execution_count": null,
      "outputs": []
    },
    {
      "cell_type": "code",
      "source": [
        "LOAD DATA local INPATH 'pseudo_facebook.csv' OVERWRITE INTO TABLE facebook;"
      ],
      "metadata": {
        "id": "4wcHnx7EizRG"
      },
      "execution_count": null,
      "outputs": []
    },
    {
      "cell_type": "markdown",
      "source": [
        "Q1: Find out the total no of users in the database"
      ],
      "metadata": {
        "id": "VRV5YbLTi-Vu"
      }
    },
    {
      "cell_type": "code",
      "source": [
        "SELECT COUNT(*) AS total_users FROM facebook;"
      ],
      "metadata": {
        "id": "n2eQUQNMi_Cs"
      },
      "execution_count": null,
      "outputs": []
    },
    {
      "cell_type": "markdown",
      "source": [
        "Q2: Find out the no of users above the age of 25"
      ],
      "metadata": {
        "id": "8QS9EmCWjA3J"
      }
    },
    {
      "cell_type": "code",
      "source": [
        "SELECT COUNT(*) AS users_above_25 FROM facebook WHERE age > 25;"
      ],
      "metadata": {
        "id": "HBF8-O6njupq"
      },
      "execution_count": null,
      "outputs": []
    },
    {
      "cell_type": "markdown",
      "source": [
        "Q3: Do male face book users tend to have more friends or female users"
      ],
      "metadata": {
        "id": "JxHpnukCjyCs"
      }
    },
    {
      "cell_type": "code",
      "source": [
        "SELECT gender,AVG(friend_count) AS average_friend_count FROM facebook GROUP BY gender;"
      ],
      "metadata": {
        "id": "WmoXo2rFj8ri"
      },
      "execution_count": null,
      "outputs": []
    },
    {
      "cell_type": "markdown",
      "source": [
        "Q4: How many likes do young people receive on facebook as opposed to old people"
      ],
      "metadata": {
        "id": "qjZhcu1nj-ej"
      }
    },
    {
      "cell_type": "code",
      "source": [
        "SELECT age_group,SUM(likes_received) AS total_likes_received FROM (SELECT CASE WHEN age < 30 THEN 'Young' ELSE 'Old' END AS age_group, likes_received FROM facebook) subquery GROUP BY age_group;"
      ],
      "metadata": {
        "id": "BTlxjsE3kBbb"
      },
      "execution_count": null,
      "outputs": []
    },
    {
      "cell_type": "markdown",
      "source": [
        "Q5: Find out the count of facebook users for each birthday month\n",
        "\n"
      ],
      "metadata": {
        "id": "LmaEn1zYkCsq"
      }
    },
    {
      "cell_type": "code",
      "source": [
        "SELECT dob_month, COUNT(*) AS user_count FROM facebook GROUP BY dob_month ORDER BY dob_month;"
      ],
      "metadata": {
        "id": "VpZUnD4wkEvq"
      },
      "execution_count": null,
      "outputs": []
    },
    {
      "cell_type": "markdown",
      "source": [
        "Q6: Do young members use mobile phones or computers for facebook browsing"
      ],
      "metadata": {
        "id": "nb71Y8PzkGCu"
      }
    },
    {
      "cell_type": "code",
      "source": [
        "WITH age_device AS (\n",
        "    SELECT\n",
        "        CASE\n",
        "            WHEN age < 30 THEN 'Young'\n",
        "            ELSE 'Old'\n",
        "        END AS age_group,\n",
        "        CASE\n",
        "            WHEN mobile_likes > 0 THEN 'Mobile'\n",
        "            ELSE 'Computer'\n",
        "        END AS device_type\n",
        "    FROM facebook\n",
        ")\n",
        "SELECT\n",
        "    age_group,\n",
        "    device_type,\n",
        "    COUNT(*) AS user_count\n",
        "FROM age_device\n",
        "GROUP BY age_group, device_type;"
      ],
      "metadata": {
        "id": "nCevjxLKkIr8"
      },
      "execution_count": null,
      "outputs": []
    },
    {
      "cell_type": "markdown",
      "source": [
        "Q7: Do adult members use mobile phones or computers for facebook browsing"
      ],
      "metadata": {
        "id": "6X66tJykkKt6"
      }
    },
    {
      "cell_type": "code",
      "source": [
        "SELECT\n",
        "    age_group,\n",
        "    device_type,\n",
        "    COUNT(*) AS user_count\n",
        "FROM (\n",
        "    SELECT\n",
        "        CASE WHEN age >= 18 THEN 'Adult' ELSE 'Not Adult' END AS age_group,\n",
        "        CASE WHEN mobile_likes > 0 THEN 'Mobile' ELSE 'Computer' END AS device_type\n",
        "    FROM facebook\n",
        ") subquery\n",
        "GROUP BY age_group, device_type;"
      ],
      "metadata": {
        "id": "njs99_OfkOXS"
      },
      "execution_count": null,
      "outputs": []
    },
    {
      "cell_type": "markdown",
      "source": [],
      "metadata": {
        "id": "ZAhJ5g7Ui3Od"
      }
    }
  ]
}